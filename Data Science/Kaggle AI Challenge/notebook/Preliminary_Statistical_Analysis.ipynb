{
 "cells": [
  {
   "cell_type": "markdown",
   "metadata": {},
   "source": [
    "# Preliminary"
   ]
  },
  {
   "cell_type": "markdown",
   "metadata": {},
   "source": [
    "This notebook regroups statistical analysis of the descriptions before and after cleaning. We used it to orient and decide wich classification strategy would then be the best. <br>\n",
    "**Make Sure That you have dowloaded the datasets required for the challenge and specify their DATA_PATH, also make sure to put them in the same file.**"
   ]
  },
  {
   "cell_type": "markdown",
   "metadata": {},
   "source": [
    "# Library"
   ]
  },
  {
   "cell_type": "code",
   "execution_count": null,
   "metadata": {},
   "outputs": [],
   "source": [
    "import numpy as np\n",
    "import pandas as pd \n",
    "import matplotlib.pyplot as plt\n",
    "import collections\n",
    "\n",
    "#Plotly\n",
    "import plotly.graph_objects as go\n",
    "import plotly\n",
    "\n",
    "# Seaborn\n",
    "import plotly.express as px\n",
    "import seaborn as sb\n",
    "sb.set(color_codes=True)"
   ]
  },
  {
   "cell_type": "code",
   "execution_count": null,
   "metadata": {},
   "outputs": [],
   "source": [
    "import os\n",
    "os.getcwd()"
   ]
  },
  {
   "cell_type": "markdown",
   "metadata": {},
   "source": [
    "# Data"
   ]
  },
  {
   "cell_type": "code",
   "execution_count": null,
   "metadata": {},
   "outputs": [],
   "source": [
    "#To fill : Advice : Set the path as the one in which you saved this notebook\n",
    "#Save the datasets in the same file, the code will run without problem !\n",
    "DATA_PATH = \n",
    "\n",
    "\n",
    "train_df = pd.read_json(DATA_PATH+\"/train.json\")\n",
    "train_df.set_index('Id', inplace=True) \n",
    "\n",
    "test_df = pd.read_json(DATA_PATH+\"/test.json\")\n",
    "test_df.set_index('Id', inplace=True) \n",
    "\n",
    "\n",
    "train_label = pd.read_csv(DATA_PATH+\"/train_label.csv\")\n",
    "train_label.set_index('Id', inplace=True)\n",
    "\n",
    "categ = pd.read_csv(DATA_PATH+'/categories_string.csv')\n",
    "\n",
    "template_submissions = pd.read_csv(DATA_PATH + \"/template_submissions.csv\")"
   ]
  },
  {
   "cell_type": "code",
   "execution_count": null,
   "metadata": {
    "scrolled": true
   },
   "outputs": [],
   "source": [
    "pd.options.display.max_colwidth = 1000\n",
    "display(train_df.head(5))"
   ]
  },
  {
   "cell_type": "code",
   "execution_count": null,
   "metadata": {},
   "outputs": [],
   "source": [
    "with pd.option_context('display.max_rows', None, 'display.max_columns', None):  # more options can be specified also\n",
    "    print(train_df.head(5))"
   ]
  },
  {
   "cell_type": "code",
   "execution_count": null,
   "metadata": {},
   "outputs": [],
   "source": [
    "train_tot=pd.merge(train_df, train_label)\n",
    "train_tot=pd.merge(train_tot, categ)\n",
    "train_tot.head(5)"
   ]
  },
  {
   "cell_type": "code",
   "execution_count": null,
   "metadata": {},
   "outputs": [],
   "source": [
    "test_df.head(3)"
   ]
  },
  {
   "cell_type": "code",
   "execution_count": null,
   "metadata": {},
   "outputs": [],
   "source": [
    "template_submissions.head(3)"
   ]
  },
  {
   "cell_type": "markdown",
   "metadata": {},
   "source": [
    "# Analyse du jeu de données d'entrainement"
   ]
  },
  {
   "cell_type": "code",
   "execution_count": null,
   "metadata": {},
   "outputs": [],
   "source": [
    "print(\"Number of jobs in the dataset : %d\" %(len(train_tot.Category.unique())))\n",
    "print(\"Number of people in the dataset : %d\" %(len(train_tot.Id.unique())))"
   ]
  },
  {
   "cell_type": "markdown",
   "metadata": {},
   "source": [
    "### Nombre de personnes par métier"
   ]
  },
  {
   "cell_type": "code",
   "execution_count": null,
   "metadata": {
    "scrolled": true
   },
   "outputs": [],
   "source": [
    "fig = px.histogram(train_tot, x=\"Category name\", color=\"gender\")\n",
    "fig.show()"
   ]
  },
  {
   "cell_type": "markdown",
   "metadata": {},
   "source": [
    "### Nombre de personnes par métier sous représenté"
   ]
  },
  {
   "cell_type": "code",
   "execution_count": null,
   "metadata": {},
   "outputs": [],
   "source": [
    "train_gb_category=train_tot.groupby('Category')"
   ]
  },
  {
   "cell_type": "code",
   "execution_count": null,
   "metadata": {},
   "outputs": [],
   "source": [
    "categ_kept=categ[(train_gb_category.count()['Id']<10000).values]['Category']"
   ]
  },
  {
   "cell_type": "code",
   "execution_count": null,
   "metadata": {},
   "outputs": [],
   "source": [
    "fig = px.histogram(train_tot[train_tot['Category'].isin(categ_kept)], x=\"Category name\", color=\"gender\")\n",
    "fig.show()"
   ]
  },
  {
   "cell_type": "markdown",
   "metadata": {},
   "source": [
    "Les métiers sont représentés de façon inéquitable, il y a par exemple beaucoup de professeurs mais peu de rappeur. De plus, les sexes sont également très mal réparties entre les différents métiers."
   ]
  },
  {
   "cell_type": "markdown",
   "metadata": {},
   "source": [
    "## Etude des descriptions :"
   ]
  },
  {
   "cell_type": "code",
   "execution_count": null,
   "metadata": {},
   "outputs": [],
   "source": [
    "length_descriptions = (train_tot.description.map(lambda train_tot :len(train_tot)))\n",
    "print(\"Plus longue description :\", max(length_descriptions), \"mots\")"
   ]
  },
  {
   "cell_type": "code",
   "execution_count": null,
   "metadata": {},
   "outputs": [],
   "source": [
    "train_tot.head(10)"
   ]
  },
  {
   "cell_type": "code",
   "execution_count": null,
   "metadata": {},
   "outputs": [],
   "source": [
    "px.box(length_descriptions)"
   ]
  },
  {
   "cell_type": "code",
   "execution_count": null,
   "metadata": {},
   "outputs": [],
   "source": [
    "from wordcloud import WordCloud\n",
    "all_descr = \" \".join(train_tot.description.values)\n",
    "wordcloud_word = WordCloud(background_color=\"black\", collocations=False).generate_from_text(all_descr)"
   ]
  },
  {
   "cell_type": "code",
   "execution_count": null,
   "metadata": {},
   "outputs": [],
   "source": [
    "plt.figure(figsize=(10,10))\n",
    "plt.imshow(wordcloud_word,cmap=plt.cm.Paired)\n",
    "plt.axis(\"off\")\n",
    "plt.show()"
   ]
  },
  {
   "cell_type": "markdown",
   "metadata": {},
   "source": [
    "## Analysis with Description Cleaned : "
   ]
  },
  {
   "cell_type": "code",
   "execution_count": null,
   "metadata": {},
   "outputs": [],
   "source": [
    "DATA_CLEANED_PATH = DATA_PATH + '/cleaned'\n",
    "ct = CleanText(stemming=True, lem=False)\n",
    "ct.clean_save(train_tot, 'train_tot', \"description\", \"description_cleaned\", DATA_CLEANED_PATH)"
   ]
  },
  {
   "cell_type": "code",
   "execution_count": null,
   "metadata": {},
   "outputs": [],
   "source": [
    "train_tot_clean = pd.read_csv(os.path.join(DATA_CLEANED_PATH,'train_tot_cleaned_stem.csv'),index_col=0)"
   ]
  },
  {
   "cell_type": "code",
   "execution_count": null,
   "metadata": {},
   "outputs": [],
   "source": [
    "train_tot_clean.head(5)"
   ]
  },
  {
   "cell_type": "markdown",
   "metadata": {},
   "source": [
    "You can see here the difference between the original description and the cleaned one; this will help our further classification."
   ]
  },
  {
   "cell_type": "code",
   "execution_count": null,
   "metadata": {},
   "outputs": [],
   "source": [
    "length_descriptions_clean = (train_tot_clean.description_cleaned.map(lambda train_tot_cleaned :len(train_tot_cleaned)))\n",
    "print(\"Plus longue description :\", max(length_descriptions_clean), \"mots\")"
   ]
  },
  {
   "cell_type": "code",
   "execution_count": null,
   "metadata": {},
   "outputs": [],
   "source": [
    "px.box(length_descriptions_clean)"
   ]
  },
  {
   "cell_type": "code",
   "execution_count": null,
   "metadata": {},
   "outputs": [],
   "source": [
    "all_descr_clean = \" \".join(train_tot_clean.description_cleaned.values)\n",
    "wordcloud_word = WordCloud(background_color=\"black\", collocations=False).generate_from_text(all_descr_clean)\n",
    "\n",
    "plt.figure(figsize=(10,10))\n",
    "plt.imshow(wordcloud_word,cmap=plt.cm.Paired)\n",
    "plt.axis(\"off\")\n",
    "plt.show()"
   ]
  },
  {
   "cell_type": "code",
   "execution_count": null,
   "metadata": {},
   "outputs": [],
   "source": [
    "occurences = train_tot_clean.description_cleaned.str.split(expand=True).stack().value_counts()"
   ]
  },
  {
   "cell_type": "code",
   "execution_count": null,
   "metadata": {},
   "outputs": [],
   "source": [
    "len(occurences)"
   ]
  },
  {
   "cell_type": "code",
   "execution_count": null,
   "metadata": {},
   "outputs": [],
   "source": [
    "cc=pd.DataFrame(collections.Counter(occurences.values).items())\n",
    "print(cc[cc[0]<=5])"
   ]
  },
  {
   "cell_type": "code",
   "execution_count": null,
   "metadata": {
    "scrolled": true
   },
   "outputs": [],
   "source": [
    "nb = 500\n",
    "px.bar(y=occurences.head(nb).values,x=occurences.head(nb).index, labels={'x': 'Words', 'y': 'Count'})"
   ]
  },
  {
   "cell_type": "markdown",
   "metadata": {},
   "source": [
    "Words are clearly not represented in the same proportion."
   ]
  },
  {
   "cell_type": "markdown",
   "metadata": {},
   "source": [
    "**Comment travailler avec ce problème ?**\n",
    "\n",
    "* Au niveau du classifieur :\n",
    "    * Random Forest : class_weight = balanced\n",
    "    * Boosting : scale_pos_weight = ...\n",
    "    \n",
    "* Au niveau du dataset : dupliquer les lignes de métiers sous représenté"
   ]
  }
 ],
 "metadata": {
  "kernelspec": {
   "display_name": "Python 3",
   "language": "python",
   "name": "python3"
  },
  "language_info": {
   "codemirror_mode": {
    "name": "ipython",
    "version": 3
   },
   "file_extension": ".py",
   "mimetype": "text/x-python",
   "name": "python",
   "nbconvert_exporter": "python",
   "pygments_lexer": "ipython3",
   "version": "3.7.6"
  }
 },
 "nbformat": 4,
 "nbformat_minor": 2
}
